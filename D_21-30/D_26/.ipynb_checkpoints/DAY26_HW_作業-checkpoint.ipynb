{
 "cells": [
  {
   "cell_type": "markdown",
   "metadata": {},
   "source": [
    "## 作業:\n",
    "今天學到不同統計量之間特性，  \n",
    "試著分析男生女生身高資料，  \n",
    "試著回答下面的問題:  \n",
    "Q1:試著用今天所教的內容，如何描述這兩組資料的樣態?    \n",
    "Q2: 請問男生和女生在平均身高上誰比較高?   \n",
    "Q3:請問第二題的答案和日常生活中觀察的一致嗎? 如果不一致，你覺得原因可能為何?    \n",
    "上述問題透過  python 語法進行運算，\n",
    "並將上述答案填寫在 (google 表單)[https://forms.gle/EDdU2Zfq8zLvDea18]\n",
    "![](作業資料圖檔.PNG)"
   ]
  },
  {
   "cell_type": "code",
   "execution_count": 1,
   "metadata": {
    "colab": {
     "base_uri": "https://localhost:8080/",
     "height": 34
    },
    "colab_type": "code",
    "executionInfo": {
     "elapsed": 1558,
     "status": "ok",
     "timestamp": 1578021044012,
     "user": {
      "displayName": "Mora chen",
      "photoUrl": "https://lh3.googleusercontent.com/a-/AAuE7mB40f7sDArbZ5_DYq02nNcnLD0Ryaf7AhsASSQeLQ=s64",
      "userId": "03171203089166907199"
     },
     "user_tz": -480
    },
    "id": "yz28_IgkYdBW",
    "outputId": "a12f486c-18b3-4fb5-d06c-f162aebd9444"
   },
   "outputs": [],
   "source": [
    "# library\n",
    "import matplotlib.pyplot as plt\n",
    "import numpy as np\n",
    "import pandas as pd\n",
    "from scipy import stats\n",
    "import math\n",
    "import statistics\n",
    "import seaborn as sns"
   ]
  },
  {
   "cell_type": "code",
   "execution_count": 2,
   "metadata": {},
   "outputs": [],
   "source": [
    "## 輸入資料\n",
    "'''\n",
    "你的程式碼\n",
    "'''\n",
    "boys=[164, 176, 169, 169, 165, 175, 159, 151, 144, 160, 183, 165, 156, 170,\n",
    "      164, 173, 165, 163, 177, 171]\n",
    "girls=[169, 183, 170, 168, 182, 170, 173, 185, 151, 156, 162, 169, 162, 181, \n",
    "       159, 154, 167, 175, 170, 160]"
   ]
  },
  {
   "cell_type": "code",
   "execution_count": 3,
   "metadata": {},
   "outputs": [
    {
     "data": {
      "text/html": [
       "<div>\n",
       "<style scoped>\n",
       "    .dataframe tbody tr th:only-of-type {\n",
       "        vertical-align: middle;\n",
       "    }\n",
       "\n",
       "    .dataframe tbody tr th {\n",
       "        vertical-align: top;\n",
       "    }\n",
       "\n",
       "    .dataframe thead th {\n",
       "        text-align: right;\n",
       "    }\n",
       "</style>\n",
       "<table border=\"1\" class=\"dataframe\">\n",
       "  <thead>\n",
       "    <tr style=\"text-align: right;\">\n",
       "      <th></th>\n",
       "      <th>boys</th>\n",
       "      <th>girls</th>\n",
       "    </tr>\n",
       "  </thead>\n",
       "  <tbody>\n",
       "    <tr>\n",
       "      <th>count</th>\n",
       "      <td>20.000000</td>\n",
       "      <td>20.000000</td>\n",
       "    </tr>\n",
       "    <tr>\n",
       "      <th>mean</th>\n",
       "      <td>165.950000</td>\n",
       "      <td>168.300000</td>\n",
       "    </tr>\n",
       "    <tr>\n",
       "      <th>std</th>\n",
       "      <td>9.213691</td>\n",
       "      <td>9.766215</td>\n",
       "    </tr>\n",
       "    <tr>\n",
       "      <th>min</th>\n",
       "      <td>144.000000</td>\n",
       "      <td>151.000000</td>\n",
       "    </tr>\n",
       "    <tr>\n",
       "      <th>25%</th>\n",
       "      <td>162.250000</td>\n",
       "      <td>161.500000</td>\n",
       "    </tr>\n",
       "    <tr>\n",
       "      <th>50%</th>\n",
       "      <td>165.000000</td>\n",
       "      <td>169.000000</td>\n",
       "    </tr>\n",
       "    <tr>\n",
       "      <th>75%</th>\n",
       "      <td>171.500000</td>\n",
       "      <td>173.500000</td>\n",
       "    </tr>\n",
       "    <tr>\n",
       "      <th>max</th>\n",
       "      <td>183.000000</td>\n",
       "      <td>185.000000</td>\n",
       "    </tr>\n",
       "  </tbody>\n",
       "</table>\n",
       "</div>"
      ],
      "text/plain": [
       "             boys       girls\n",
       "count   20.000000   20.000000\n",
       "mean   165.950000  168.300000\n",
       "std      9.213691    9.766215\n",
       "min    144.000000  151.000000\n",
       "25%    162.250000  161.500000\n",
       "50%    165.000000  169.000000\n",
       "75%    171.500000  173.500000\n",
       "max    183.000000  185.000000"
      ]
     },
     "execution_count": 3,
     "metadata": {},
     "output_type": "execute_result"
    }
   ],
   "source": [
    "#Q1:試著用今天所教的內容，如何描述這兩組資料的樣態?\n",
    "#暗示:  分別計算男生和女生的統計量\n",
    "'''\n",
    "你的答案\n",
    "'''\n",
    "boyandgirl={'boys':boys, 'girls':girls}\n",
    "df = pd.DataFrame(boyandgirl)\n",
    "df.describe()"
   ]
  },
  {
   "cell_type": "code",
   "execution_count": 4,
   "metadata": {},
   "outputs": [
    {
     "name": "stdout",
     "output_type": "stream",
     "text": [
      "男生身高全距= 39\n",
      "女生身高全距= 34\n",
      "男生身高眾數= 165\n",
      "女生身高眾數= 170\n",
      "男生身高變異數= 84.89210526315789\n",
      "女生身高變異數= 95.37894736842104\n",
      "男生身高峰度= -0.47132127317376954\n",
      "女生身高峰度= 0.05985321129365068\n",
      "男生身高偏度= -0.47132127317376954\n",
      "女生身高偏度= 0.05985321129365068\n",
      "男生身高峰度= 0.19395882957876331\n",
      "女生身高峰度= -0.8203607083948947\n"
     ]
    }
   ],
   "source": [
    "print(\"男生身高全距=\",max(boys)-min(boys))\n",
    "print(\"女生身高全距=\",max(girls)-min(girls))\n",
    "print(\"男生身高眾數=\",stats.mode(boys,axis=None)[0][0])\n",
    "print(\"女生身高眾數=\",stats.mode(girls,axis=None)[0][0])\n",
    "print(\"男生身高變異數=\",np.var(boys,ddof=1))\n",
    "print(\"女生身高變異數=\",np.var(girls,ddof=1))\n",
    "print(\"男生身高峰度=\",stats.skew(boys))\n",
    "print(\"女生身高峰度=\",stats.skew(girls))\n",
    "print(\"男生身高偏度=\",stats.skew(boys))\n",
    "print(\"女生身高偏度=\",stats.skew(girls))\n",
    "print(\"男生身高峰度=\",stats.kurtosis(boys))\n",
    "print(\"女生身高峰度=\",stats.kurtosis(girls))"
   ]
  },
  {
   "cell_type": "code",
   "execution_count": 11,
   "metadata": {},
   "outputs": [
    {
     "data": {
      "image/png": "[encoded data removed]",
      "text/plain": [
       "<Figure size 432x288 with 1 Axes>"
      ]
     },
     "metadata": {
      "needs_background": "light"
     },
     "output_type": "display_data"
    }
   ],
   "source": [
    "plt.hist(boys,alpha=.5)\n",
    "plt.hist(girls,color=sns.desaturate(\"indianred\", .8),alpha=.3)\n",
    "plt.title(\"all samples\")\n",
    "plt.axvline(x=np.mean(girls),color=sns.desaturate(\"indianred\", .3))\n",
    "plt.axvline(x=np.mean(boys))\n",
    "plt.show()"
   ]
  },
  {
   "cell_type": "code",
   "execution_count": 5,
   "metadata": {},
   "outputs": [
    {
     "data": {
      "text/plain": [
       "'\\n你的答案\\n\\n女生平均值較高\\n'"
      ]
     },
     "execution_count": 5,
     "metadata": {},
     "output_type": "execute_result"
    }
   ],
   "source": [
    "#Q2: 請問男生和女生在平均身高上誰比較高? \n",
    "'''\n",
    "你的答案\n",
    "\n",
    "女生平均值較高\n",
    "'''"
   ]
  },
  {
   "cell_type": "code",
   "execution_count": 6,
   "metadata": {},
   "outputs": [
    {
     "data": {
      "text/plain": [
       "'\\n你的答案\\n\\n這個是樣本，可能是抽樣的方式照成的\\n'"
      ]
     },
     "execution_count": 6,
     "metadata": {},
     "output_type": "execute_result"
    }
   ],
   "source": [
    "#Q3:請問第二題的答案和日常生活中觀察的一致嗎? 如果不一致，你覺得原因可能為何? \n",
    "'''\n",
    "你的答案\n",
    "\n",
    "這個是樣本，可能是抽樣的方式照成的\n",
    "'''"
   ]
  },
  {
   "cell_type": "code",
   "execution_count": null,
   "metadata": {},
   "outputs": [],
   "source": []
  }
 ],
 "metadata": {
  "colab": {
   "name": "Day33.YOLO 細節理解 - 網路輸出的後處理_HW.ipynb",
   "provenance": []
  },
  "kernelspec": {
   "display_name": "Python 3",
   "language": "python",
   "name": "python3"
  },
  "language_info": {
   "codemirror_mode": {
    "name": "ipython",
    "version": 3
   },
   "file_extension": ".py",
   "mimetype": "text/x-python",
   "name": "python",
   "nbconvert_exporter": "python",
   "pygments_lexer": "ipython3",
   "version": "3.8.5"
  }
 },
 "nbformat": 4,
 "nbformat_minor": 1
}
