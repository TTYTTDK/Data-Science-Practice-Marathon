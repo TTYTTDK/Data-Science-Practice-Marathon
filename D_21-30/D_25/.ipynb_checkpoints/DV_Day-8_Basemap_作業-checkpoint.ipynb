{
 "cells": [
  {
   "cell_type": "markdown",
   "metadata": {},
   "source": [
    "# 目標:\n",
    "學習 BASEMAP的進階應用\n",
    "\n",
    "\n",
    "# 重點:\n",
    "\n",
    "導入PANDAS, 利用PANDAS 的數據繪製關係圖\n",
    "\n",
    "如何自行輸入經緯度繪製所在區域的地圖\n",
    "\n",
    "學習如何讀取氣象資訊檔: netCDF4\n",
    "\n",
    "\n",
    "# 作業\n",
    "\n",
    "1. 讀入 etopo5 地形/降水量資料集: \"etopo5.cdf\". 繪製分布圖.\n",
    "\n",
    "\n",
    "2. 延續使用者資料的導入使用, 除了, \"文字檔\", \"網路資訊\", 還有圖像檔;\n",
    "\n",
    "所以嘗試使用一張\"earth_lights_lrg.jpg\" 搭配不同的投影方式繪製地圖\n",
    "\n",
    "\n",
    "\n",
    "# 溫馨提示: \n",
    "\n",
    "有疑問, 請多提出來, 有專家陪跑"
   ]
  },
  {
   "cell_type": "code",
   "execution_count": 1,
   "metadata": {},
   "outputs": [
    {
     "ename": "OSError",
     "evalue": "Unable to open boundary dataset file. Only the 'crude', 'low',\n'intermediate' and 'high' resolution datasets are installed by default.\nIf you are requesting a 'full' resolution dataset, you may need to\ndownload and install those files separately\n(see the basemap README for details).",
     "output_type": "error",
     "traceback": [
      "\u001b[1;31m---------------------------------------------------------------------------\u001b[0m",
      "\u001b[1;31mFileNotFoundError\u001b[0m                         Traceback (most recent call last)",
      "\u001b[1;32m~\\anaconda3\\lib\\site-packages\\mpl_toolkits\\basemap\\__init__.py\u001b[0m in \u001b[0;36m_readboundarydata\u001b[1;34m(self, name, as_polygons)\u001b[0m\n\u001b[0;32m   1224\u001b[0m         \u001b[1;32mtry\u001b[0m\u001b[1;33m:\u001b[0m\u001b[1;33m\u001b[0m\u001b[1;33m\u001b[0m\u001b[0m\n\u001b[1;32m-> 1225\u001b[1;33m             \u001b[0mbdatfile\u001b[0m \u001b[1;33m=\u001b[0m \u001b[0mopen\u001b[0m\u001b[1;33m(\u001b[0m\u001b[0mos\u001b[0m\u001b[1;33m.\u001b[0m\u001b[0mpath\u001b[0m\u001b[1;33m.\u001b[0m\u001b[0mjoin\u001b[0m\u001b[1;33m(\u001b[0m\u001b[0mbasemap_datadir\u001b[0m\u001b[1;33m,\u001b[0m\u001b[0mname\u001b[0m\u001b[1;33m+\u001b[0m\u001b[1;34m'_'\u001b[0m\u001b[1;33m+\u001b[0m\u001b[0mself\u001b[0m\u001b[1;33m.\u001b[0m\u001b[0mresolution\u001b[0m\u001b[1;33m+\u001b[0m\u001b[1;34m'.dat'\u001b[0m\u001b[1;33m)\u001b[0m\u001b[1;33m,\u001b[0m\u001b[1;34m'rb'\u001b[0m\u001b[1;33m)\u001b[0m\u001b[1;33m\u001b[0m\u001b[1;33m\u001b[0m\u001b[0m\n\u001b[0m\u001b[0;32m   1226\u001b[0m             \u001b[0mbdatmetafile\u001b[0m \u001b[1;33m=\u001b[0m \u001b[0mopen\u001b[0m\u001b[1;33m(\u001b[0m\u001b[0mos\u001b[0m\u001b[1;33m.\u001b[0m\u001b[0mpath\u001b[0m\u001b[1;33m.\u001b[0m\u001b[0mjoin\u001b[0m\u001b[1;33m(\u001b[0m\u001b[0mbasemap_datadir\u001b[0m\u001b[1;33m,\u001b[0m\u001b[0mname\u001b[0m\u001b[1;33m+\u001b[0m\u001b[1;34m'meta_'\u001b[0m\u001b[1;33m+\u001b[0m\u001b[0mself\u001b[0m\u001b[1;33m.\u001b[0m\u001b[0mresolution\u001b[0m\u001b[1;33m+\u001b[0m\u001b[1;34m'.dat'\u001b[0m\u001b[1;33m)\u001b[0m\u001b[1;33m,\u001b[0m\u001b[1;34m'r'\u001b[0m\u001b[1;33m)\u001b[0m\u001b[1;33m\u001b[0m\u001b[1;33m\u001b[0m\u001b[0m\n",
      "\u001b[1;31mFileNotFoundError\u001b[0m: [Errno 2] No such file or directory: 'C:\\\\Users\\\\march\\\\anaconda3\\\\lib\\\\site-packages\\\\mpl_toolkits\\\\basemap\\\\data\\\\gshhs_1.dat'",
      "\nDuring handling of the above exception, another exception occurred:\n",
      "\u001b[1;31mOSError\u001b[0m                                   Traceback (most recent call last)",
      "\u001b[1;32m<ipython-input-1-5500e363b980>\u001b[0m in \u001b[0;36m<module>\u001b[1;34m\u001b[0m\n\u001b[0;32m     34\u001b[0m \u001b[1;31m# area_thresh 為一數字, 低於這個數字不呈現\u001b[0m\u001b[1;33m\u001b[0m\u001b[1;33m\u001b[0m\u001b[1;33m\u001b[0m\u001b[0m\n\u001b[0;32m     35\u001b[0m \u001b[1;33m\u001b[0m\u001b[0m\n\u001b[1;32m---> 36\u001b[1;33m m = Basemap(llcrnrlon=-145.5,llcrnrlat=1.,urcrnrlon=-2.566,urcrnrlat=46.352,\\\n\u001b[0m\u001b[0;32m     37\u001b[0m             \u001b[0mrsphere\u001b[0m\u001b[1;33m=\u001b[0m\u001b[1;33m(\u001b[0m\u001b[1;36m6378137.00\u001b[0m\u001b[1;33m,\u001b[0m\u001b[1;36m6356752.3142\u001b[0m\u001b[1;33m)\u001b[0m\u001b[1;33m,\u001b[0m\u001b[0;31m\\\u001b[0m\u001b[1;33m\u001b[0m\u001b[1;33m\u001b[0m\u001b[0m\n\u001b[0;32m     38\u001b[0m             \u001b[0mresolution\u001b[0m\u001b[1;33m=\u001b[0m\u001b[1;34m'1'\u001b[0m\u001b[1;33m,\u001b[0m\u001b[0marea_thresh\u001b[0m\u001b[1;33m=\u001b[0m\u001b[1;36m1000.\u001b[0m\u001b[1;33m,\u001b[0m\u001b[0mprojection\u001b[0m\u001b[1;33m=\u001b[0m\u001b[1;34m'lcc'\u001b[0m\u001b[1;33m,\u001b[0m\u001b[0;31m\\\u001b[0m\u001b[1;33m\u001b[0m\u001b[1;33m\u001b[0m\u001b[0m\n",
      "\u001b[1;32m~\\anaconda3\\lib\\site-packages\\mpl_toolkits\\basemap\\__init__.py\u001b[0m in \u001b[0;36m__init__\u001b[1;34m(self, llcrnrlon, llcrnrlat, urcrnrlon, urcrnrlat, llcrnrx, llcrnry, urcrnrx, urcrnry, width, height, projection, resolution, area_thresh, rsphere, ellps, lat_ts, lat_1, lat_2, lat_0, lon_0, lon_1, lon_2, o_lon_p, o_lat_p, k_0, no_rot, suppress_ticks, satellite_height, boundinglat, fix_aspect, anchor, celestial, round, epsg, ax)\u001b[0m\n\u001b[0;32m   1113\u001b[0m         \u001b[1;32mif\u001b[0m \u001b[0mself\u001b[0m\u001b[1;33m.\u001b[0m\u001b[0mresolution\u001b[0m \u001b[1;32mis\u001b[0m \u001b[1;32mnot\u001b[0m \u001b[1;32mNone\u001b[0m\u001b[1;33m:\u001b[0m\u001b[1;33m\u001b[0m\u001b[1;33m\u001b[0m\u001b[0m\n\u001b[0;32m   1114\u001b[0m             \u001b[0mself\u001b[0m\u001b[1;33m.\u001b[0m\u001b[0mcoastsegs\u001b[0m\u001b[1;33m,\u001b[0m \u001b[0mself\u001b[0m\u001b[1;33m.\u001b[0m\u001b[0mcoastpolygontypes\u001b[0m \u001b[1;33m=\u001b[0m\u001b[0;31m\\\u001b[0m\u001b[1;33m\u001b[0m\u001b[1;33m\u001b[0m\u001b[0m\n\u001b[1;32m-> 1115\u001b[1;33m             \u001b[0mself\u001b[0m\u001b[1;33m.\u001b[0m\u001b[0m_readboundarydata\u001b[0m\u001b[1;33m(\u001b[0m\u001b[1;34m'gshhs'\u001b[0m\u001b[1;33m,\u001b[0m\u001b[0mas_polygons\u001b[0m\u001b[1;33m=\u001b[0m\u001b[1;32mTrue\u001b[0m\u001b[1;33m)\u001b[0m\u001b[1;33m\u001b[0m\u001b[1;33m\u001b[0m\u001b[0m\n\u001b[0m\u001b[0;32m   1116\u001b[0m             \u001b[1;31m# reformat for use in matplotlib.patches.Polygon.\u001b[0m\u001b[1;33m\u001b[0m\u001b[1;33m\u001b[0m\u001b[1;33m\u001b[0m\u001b[0m\n\u001b[0;32m   1117\u001b[0m             \u001b[0mself\u001b[0m\u001b[1;33m.\u001b[0m\u001b[0mcoastpolygons\u001b[0m \u001b[1;33m=\u001b[0m \u001b[1;33m[\u001b[0m\u001b[1;33m]\u001b[0m\u001b[1;33m\u001b[0m\u001b[1;33m\u001b[0m\u001b[0m\n",
      "\u001b[1;32m~\\anaconda3\\lib\\site-packages\\mpl_toolkits\\basemap\\__init__.py\u001b[0m in \u001b[0;36m_readboundarydata\u001b[1;34m(self, name, as_polygons)\u001b[0m\n\u001b[0;32m   1226\u001b[0m             \u001b[0mbdatmetafile\u001b[0m \u001b[1;33m=\u001b[0m \u001b[0mopen\u001b[0m\u001b[1;33m(\u001b[0m\u001b[0mos\u001b[0m\u001b[1;33m.\u001b[0m\u001b[0mpath\u001b[0m\u001b[1;33m.\u001b[0m\u001b[0mjoin\u001b[0m\u001b[1;33m(\u001b[0m\u001b[0mbasemap_datadir\u001b[0m\u001b[1;33m,\u001b[0m\u001b[0mname\u001b[0m\u001b[1;33m+\u001b[0m\u001b[1;34m'meta_'\u001b[0m\u001b[1;33m+\u001b[0m\u001b[0mself\u001b[0m\u001b[1;33m.\u001b[0m\u001b[0mresolution\u001b[0m\u001b[1;33m+\u001b[0m\u001b[1;34m'.dat'\u001b[0m\u001b[1;33m)\u001b[0m\u001b[1;33m,\u001b[0m\u001b[1;34m'r'\u001b[0m\u001b[1;33m)\u001b[0m\u001b[1;33m\u001b[0m\u001b[1;33m\u001b[0m\u001b[0m\n\u001b[0;32m   1227\u001b[0m         \u001b[1;32mexcept\u001b[0m\u001b[1;33m:\u001b[0m\u001b[1;33m\u001b[0m\u001b[1;33m\u001b[0m\u001b[0m\n\u001b[1;32m-> 1228\u001b[1;33m             \u001b[1;32mraise\u001b[0m \u001b[0mIOError\u001b[0m\u001b[1;33m(\u001b[0m\u001b[0mmsg\u001b[0m\u001b[1;33m)\u001b[0m\u001b[1;33m\u001b[0m\u001b[1;33m\u001b[0m\u001b[0m\n\u001b[0m\u001b[0;32m   1229\u001b[0m         \u001b[0mpolygons\u001b[0m \u001b[1;33m=\u001b[0m \u001b[1;33m[\u001b[0m\u001b[1;33m]\u001b[0m\u001b[1;33m\u001b[0m\u001b[1;33m\u001b[0m\u001b[0m\n\u001b[0;32m   1230\u001b[0m         \u001b[0mpolygon_types\u001b[0m \u001b[1;33m=\u001b[0m \u001b[1;33m[\u001b[0m\u001b[1;33m]\u001b[0m\u001b[1;33m\u001b[0m\u001b[1;33m\u001b[0m\u001b[0m\n",
      "\u001b[1;31mOSError\u001b[0m: Unable to open boundary dataset file. Only the 'crude', 'low',\n'intermediate' and 'high' resolution datasets are installed by default.\nIf you are requesting a 'full' resolution dataset, you may need to\ndownload and install those files separately\n(see the basemap README for details)."
     ]
    },
    {
     "data": {
      "image/png": "[encoded data removed]",
      "text/plain": [
       "<Figure size 432x288 with 1 Axes>"
      ]
     },
     "metadata": {
      "needs_background": "light"
     },
     "output_type": "display_data"
    }
   ],
   "source": [
    "import os\n",
    "os.system('clear')\n",
    "\n",
    "from mpl_toolkits.basemap import Basemap, shiftgrid, cm\n",
    "import numpy as np\n",
    "import matplotlib.pyplot as plt\n",
    "from netCDF4 import Dataset\n",
    "\n",
    "# 讀入 etopo5 地形/降水量。.\n",
    "#url = 'https://github.com/NOAA-PMEL/FerretDatasets/blob/master/data/etopo5.cdf'\n",
    "# 要確認資料集所在路徑\n",
    "etopodata = Dataset('etopo5.cdf')\n",
    "\n",
    "\n",
    "\n",
    "# 取得資料集裡的資料定義, 使用variables.keys()\n",
    "topoin = etopodata.variables['ROSE'][:]\n",
    "\n",
    "# 匯入資料 使用variables['keys'][:]\n",
    "lons = etopodata.variables['ETOPO05_X'][:]\n",
    "lats = etopodata.variables['ETOPO05_Y'][:]\n",
    "\n",
    "# 移位資料, 使 lon 從 - 180 到 180, 而不是 20 到 380 \n",
    "topoin,lons = shiftgrid(180.,topoin,lons,start=False)\n",
    "\n",
    "# 繪製地形/降水量\n",
    "# 創建圖形和軸實例\n",
    "fig = plt.figure()\n",
    "ax = fig.add_axes([0.1,0.1,0.8,0.8])\n",
    "\n",
    "#設定地理資訊圖('lcc' = lambert conformal conic).\n",
    "# 使用 Wgs84 橢圓體的主要和次要球體半徑, 做基礎的底圖\n",
    "# 請填入 resolution='??',area_thresh=???.,projection='??'\n",
    "# area_thresh 為一數字, 低於這個數字不呈現\n",
    "\n",
    "m = Basemap(llcrnrlon=-145.5,llcrnrlat=1.,urcrnrlon=-2.566,urcrnrlat=46.352,\\\n",
    "            rsphere=(6378137.00,6356752.3142),\\\n",
    "            resolution='1',area_thresh=1000.,projection='lcc',\\\n",
    "            lat_1=50.,lon_0=-107.,ax=ax)\n",
    "\n",
    "# 轉換為 nx x ny 定期分空 5km 本機投影網格\n",
    "nx = int((m.xmax-m.xmin)/5000.)+1\n",
    "ny = int((m.ymax-m.ymin)/5000.)+1\n",
    "topodat = m.transform_scalar(topoin,lons,lats,nx,ny)\n",
    "\n",
    "# plot image over map with imshow.\n",
    "im = m.imshow(topodat,cm.GMT_haxby)\n",
    "\n",
    "#劃定海岸線和邊境界限, 總共需要3個參數\n",
    "m.drawcoastlines()\n",
    "m.drawcountries()\n",
    "m.drawstates()\n",
    "\n",
    "# 繪製經緯線\n",
    "# 設定地圖左側和底部的標籤\n",
    "parallels = np.arange(0.,80,20.)\n",
    "m.drawparallels(parallels,labels=[1,0,0,1])\n",
    "meridians = np.arange(10.,360.,30.)\n",
    "m.drawmeridians(meridians,labels=[1,0,0,1])\n",
    "\n",
    "\n",
    "# 加入 colorbar\n",
    "cb = m.colorbar(im,\"right\", size=\"5%\", pad='2%')\n",
    "ax.set_title('ETOPO5 Topography - Lambert Conformal Conic')\n",
    "plt.show()\n"
   ]
  },
  {
   "cell_type": "code",
   "execution_count": null,
   "metadata": {
    "scrolled": true
   },
   "outputs": [],
   "source": [
    "from __future__ import (absolute_import, division, print_function)\n",
    "\n",
    "from mpl_toolkits.basemap import Basemap\n",
    "import numpy as np\n",
    "import matplotlib.pyplot as plt\n",
    "\n",
    "# 說明使用warpimage method 方法顯示圖像背景。\n",
    "# 在地圖投影區域。 預設背景是『藍色。\n",
    "#來自美國宇航局的大理石圖像 (http://visibleearth.nasa.gov)\n",
    "\n",
    "# 建立新圖像\n",
    "fig=plt.figure()\n",
    "# 定義以北美為中心的正交投影.\n",
    "m = Basemap(projection='ortho',lat_0=40,lon_0=-100,resolution='l')\n",
    "# 顯示非預設影像 - 匯入要使用的IMAGE\n",
    "m.warpimage(image='earth_lights_lrg.jpg')\n",
    "# 繪製海岸線。\n",
    "m.drawcoastlines(linewidth=0.5,color='0.5')\n",
    "# 每 30 度繪製一組 lat/lon 網格線。\n",
    "m.drawmeridians(np.arange(0,360,30),color='0.5')\n",
    "m.drawparallels(np.arange(-90,90,30),color='0.5')\n",
    "#添加圖示標題\n",
    "plt.title(\"Lights at Night image warped from 'cyl' to 'ortho' projection\",fontsize=12)\n",
    "print('warp to orthographic map ...')\n",
    "\n"
   ]
  },
  {
   "cell_type": "code",
   "execution_count": null,
   "metadata": {},
   "outputs": [],
   "source": [
    "# 建立新圖像\n",
    "fig=plt.figure()\n",
    "\n",
    "#新定義圓柱形等距投影。\n",
    "m = Basemap(projection='cy1',llcrnrlon=-180,llcrnrlat=-90,urcrnrlon=180,urcrnrlat=90,resolution='1')\n",
    "\n",
    "# 繪圖 (未扭曲) rgba 圖像\n",
    "im = m.bluemarble(scale=0.5)\n",
    "m.warpimage(image='earth_lights_lrg.jpg')\n",
    "\n",
    "# 繪製海岸線。\n",
    "m.drawcoastlines(linewidth=0.5,color='0.5')\n",
    "\n",
    "# 繪製經緯度網格\n",
    "m.drawmeridians(np.arange(-180,180,60),labels=[0,0,0,1],color='0.5')\n",
    "m.drawparallels(np.arange(-90,90,30),labels=[1,0,0,0],color='0.5')\n",
    "\n",
    "# 輸出圖像標題\n",
    "plt.title(\"Blue Marble image - native 'cyl' projection\",fontsize=12)\n",
    "print('plot native cylindrical map (no warping needed) ...')\n",
    "\n",
    "plt.show()"
   ]
  },
  {
   "cell_type": "code",
   "execution_count": null,
   "metadata": {},
   "outputs": [],
   "source": []
  }
 ],
 "metadata": {
  "kernelspec": {
   "display_name": "Python 3",
   "language": "python",
   "name": "python3"
  },
  "language_info": {
   "codemirror_mode": {
    "name": "ipython",
    "version": 3
   },
   "file_extension": ".py",
   "mimetype": "text/x-python",
   "name": "python",
   "nbconvert_exporter": "python",
   "pygments_lexer": "ipython3",
   "version": "3.8.5"
  }
 },
 "nbformat": 4,
 "nbformat_minor": 4
}
